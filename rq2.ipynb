{
 "cells": [
  {
   "cell_type": "code",
   "execution_count": 1,
   "metadata": {},
   "outputs": [],
   "source": [
    "import os\n",
    "import sys\n",
    "directory_path = os.path.abspath(os.path.join('..'))\n",
    "if directory_path not in sys.path:\n",
    "    sys.path.append(directory_path)"
   ]
  },
  {
   "cell_type": "code",
   "execution_count": 2,
   "metadata": {},
   "outputs": [],
   "source": [
    "import math\n",
    "from statistics import mean\n",
    "import yaml\n",
    "import argparse\n",
    "import copy\n",
    "import numpy as np\n",
    "import torch\n",
    "import torch.nn as nn\n",
    "from torch.utils.data import DataLoader\n",
    "from data.trainloader import MyDataset\n",
    "from data.process_data import Dataset\n",
    "from models.NCF import NCF\n",
    "from models.GMF import GMF\n",
    "from models.NeuMF import NeuMF\n",
    "import matplotlib.pyplot as plt\n",
    "import pickle\n",
    "from main import get_train_instances, validate, training"
   ]
  },
  {
   "cell_type": "code",
   "execution_count": 3,
   "metadata": {},
   "outputs": [],
   "source": [
    "# function conduct one experiment on models with configs & num negatives\n",
    "def experiment(dataset, models, configs, num_negatives, device):\n",
    "\n",
    "    train, testRatings, testNegatives = dataset.trainMatrix, dataset.testRatings, dataset.testNegatives\n",
    "    num_users, num_items = train.shape\n",
    "\n",
    "    # load model\n",
    "    if models == 'NCF':\n",
    "        model = NCF(num_users, num_items, configs[\"mlp_emb_size\"], configs[\"layers\"])\n",
    "    if models == 'GMF':\n",
    "        model = GMF(num_users, num_items, configs[\"gmf_emb_size\"])\n",
    "    if models == 'NeuMF':\n",
    "        model = NeuMF(num_users, num_items, configs[\"mlp_emb_size\"], configs[\"gmf_emb_size\"], configs[\"layers\"])\n",
    "    model = model.to(device)\n",
    "    print(model)\n",
    "\n",
    "    # define the loss function & optimizer\n",
    "    criterion = nn.BCELoss()\n",
    "    optimizer = torch.optim.Adam(model.parameters(), lr=configs[\"learning_rate\"], weight_decay=configs[\"l2_reg\"])\n",
    "\n",
    "    # run through epochs, track loss/hr/ndcg history and best value\n",
    "    loss_history, hr_history, ndcg_history = [], [], []\n",
    "    best_hr, best_ndcg, best_epoch = 0.0, 0.0, 0\n",
    "    for epoch in range(configs[\"epochs\"]):\n",
    "        # training\n",
    "        user_input, item_input, labels = get_train_instances(train, num_negatives, num_users)\n",
    "        ds = MyDataset(user_tensor=torch.LongTensor(user_input), item_tensor=torch.LongTensor(item_input), label_tensor=torch.LongTensor(labels))\n",
    "        train_loader = DataLoader(ds, batch_size=configs[\"batch_size\"], shuffle=True)\n",
    "        loss = training(epoch, train_loader, model, optimizer, criterion, device)\n",
    "\n",
    "        # validation\n",
    "        hr, ndcg = validate(epoch, testRatings, testNegatives, model, device, num_users)\n",
    "\n",
    "        # update history and best value\n",
    "        loss_history.append(loss)\n",
    "        hr_history.append(hr)\n",
    "        ndcg_history.append(ndcg)\n",
    "\n",
    "        print((\"### [{5}] ### Validation Result Epoch: {0} HitRate: {1} Best HitRate: {2} NDCG: {3} Best NDCG: {4}\").format(epoch, hr, best_hr, ndcg,\\\n",
    "         best_ndcg, num_negatives))\n",
    "        if hr > best_hr:\n",
    "            best_hr = hr\n",
    "            best_ndcg = ndcg\n",
    "            best_epoch = epoch\n",
    "\n",
    "    print(\"### [{3}] ### Finish ### Best Epoch: {0} Best HitRate: {1} Best Ndcg: {2}\".format(best_epoch, best_hr, best_ndcg, num_negatives))\n",
    "    return best_hr, best_ndcg\n"
   ]
  },
  {
   "cell_type": "code",
   "execution_count": 4,
   "metadata": {},
   "outputs": [
    {
     "name": "stdout",
     "output_type": "stream",
     "text": [
      "You are using device: cuda:0\n"
     ]
    }
   ],
   "source": [
    "dataset = Dataset(\"./data/ml-1m\")\n",
    "\n",
    "# set device\n",
    "device = torch.device(\"cuda:0\" if torch.cuda.is_available() else \"cpu\")\n",
    "print(\"You are using device: %s\" % device)"
   ]
  },
  {
   "cell_type": "code",
   "execution_count": null,
   "metadata": {},
   "outputs": [],
   "source": [
    "# NCF experiment\n",
    "\n",
    "# configs\n",
    "configs = {\n",
    "    \"batch_size\": 256,\n",
    "    \"learning_rate\": 0.001,\n",
    "    \"epochs\": 30,\n",
    "    \"mlp_emb_size\": 64,\n",
    "    \"gmf_emb_size\" : 0,\n",
    "    \"layers\": [64,32,16,8],\n",
    "    \"l2_reg\": 0.000001\n",
    "}\n",
    "\n",
    "# NCF\n",
    "ncf_hrs = [0] * 10\n",
    "ncf_ndcgs = [0] * 10\n",
    "for i in range(1, 11):\n",
    "    hr, ndcg = experiment(dataset, \"NCF\", configs, i, device)\n",
    "    ncf_hrs[i-1] = hr\n",
    "    ncf_ndcgs[i-1] = ndcg"
   ]
  },
  {
   "cell_type": "code",
   "execution_count": null,
   "metadata": {},
   "outputs": [],
   "source": [
    "# GMF experiment\n",
    "\n",
    "# configs\n",
    "configs = {\n",
    "    \"batch_size\": 512,\n",
    "    \"learning_rate\": 0.003,\n",
    "    \"epochs\": 30,\n",
    "    \"mlp_emb_size\": 0,\n",
    "    \"gmf_emb_size\" : 32,\n",
    "    \"layers\": [],\n",
    "    \"l2_reg\": 0.0000001\n",
    "}\n",
    "\n",
    "# GMF\n",
    "gmf_hrs = [0] * 10\n",
    "gmf_ndcgs = [0] * 10\n",
    "for i in range(1, 11):\n",
    "    hr, ndcg = experiment(dataset, \"GMF\", configs, i, device)\n",
    "    gmf_hrs[i-1] = hr\n",
    "    gmf_ndcgs[i-1] = ndcg"
   ]
  },
  {
   "cell_type": "code",
   "execution_count": null,
   "metadata": {},
   "outputs": [],
   "source": [
    "# NeuMF experiment\n",
    "\n",
    "# configs\n",
    "configs = {\n",
    "    \"batch_size\": 512,\n",
    "    \"learning_rate\": 0.005,\n",
    "    \"epochs\": 30,\n",
    "    \"mlp_emb_size\": 64,\n",
    "    \"gmf_emb_size\" : 32,\n",
    "    \"layers\": [64,32,16,8],\n",
    "    \"l2_reg\": 0.0000001\n",
    "\n",
    "}\n",
    "\n",
    "# NeuMF\n",
    "neumf_hrs = [0] * 10\n",
    "neumf_ndcgs = [0] * 10\n",
    "for i in range(1, 11):\n",
    "    hr, ndcg = experiment(dataset, \"NeuMF\", configs, i, device)\n",
    "    neumf_hrs[i-1] = hr\n",
    "    neumf_ndcgs[i-1] = ndcg"
   ]
  },
  {
   "cell_type": "code",
   "execution_count": 7,
   "metadata": {},
   "outputs": [
    {
     "data": {
      "image/png": "[encoded data removed]",
      "text/plain": [
       "<Figure size 432x288 with 1 Axes>"
      ]
     },
     "metadata": {
      "needs_background": "light"
     },
     "output_type": "display_data"
    },
    {
     "data": {
      "image/png": "[encoded data removed]",
      "text/plain": [
       "<Figure size 432x288 with 1 Axes>"
      ]
     },
     "metadata": {
      "needs_background": "light"
     },
     "output_type": "display_data"
    },
    {
     "data": {
      "text/plain": [
       "<Figure size 432x288 with 0 Axes>"
      ]
     },
     "metadata": {},
     "output_type": "display_data"
    }
   ],
   "source": [
    "xticks = [*range(1, 11, 1)]\n",
    "# generate plots\n",
    "plt.plot(xticks, ncf_hrs, label='NCF')\n",
    "plt.plot(xticks, gmf_hrs, label='GMF')\n",
    "plt.plot(xticks, neumf_hrs, label='NeuMF')\n",
    "plt.xlabel('Num Negatives')\n",
    "plt.ylabel('HR@10')\n",
    "plt.xticks(xticks)\n",
    "plt.legend()\n",
    "plt.show()\n",
    "plt.clf()\n",
    "\n",
    "plt.plot(xticks, ncf_ndcgs, label='NCF')\n",
    "plt.plot(xticks, gmf_ndcgs, label='GMF')\n",
    "plt.plot(xticks, neumf_ndcgs, label='NeuMF')\n",
    "plt.xlabel('Num Negatives')\n",
    "plt.ylabel('NDCGR@10')\n",
    "plt.xticks(xticks)\n",
    "plt.legend()\n",
    "plt.show()\n",
    "plt.clf()"
   ]
  }
 ],
 "metadata": {
  "interpreter": {
   "hash": "c7d830db40509c2a5d1070b11ce711eef6e21084be129f460f879826de18847d"
  },
  "kernelspec": {
   "display_name": "cs7643-a4",
   "language": "python",
   "name": "python3"
  },
  "language_info": {
   "codemirror_mode": {
    "name": "ipython",
    "version": 3
   },
   "file_extension": ".py",
   "mimetype": "text/x-python",
   "name": "python",
   "nbconvert_exporter": "python",
   "pygments_lexer": "ipython3",
   "version": "3.9.7"
  },
  "orig_nbformat": 4
 },
 "nbformat": 4,
 "nbformat_minor": 2
}
